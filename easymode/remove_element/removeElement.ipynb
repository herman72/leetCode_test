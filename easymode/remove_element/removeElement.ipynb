{
 "cells": [
  {
   "cell_type": "code",
   "execution_count": 23,
   "metadata": {},
   "outputs": [],
   "source": [
    "def removeElement(nums: list[int], val: int) -> int:\n",
    "    # n = len(nums)\n",
    "    # i = 0\n",
    "    # k = 0\n",
    "    # j = 0\n",
    "    # removedList = [0]*n\n",
    "    # while i < n:\n",
    "        \n",
    "    #     if nums[i] == val:\n",
    "    #         removedList[n-1 - k] = '_'\n",
    "    #         i = i + 1\n",
    "    #         k = k +1\n",
    "    #     else:\n",
    "    #         removedList[j] = nums[i]\n",
    "    #         i = i + 1\n",
    "    #         j = j + 1\n",
    "    \n",
    "    n = len(nums)\n",
    "    j = 0\n",
    "    removedList = [0]*n\n",
    "    \n",
    "    for i in range(n):\n",
    "        if nums[i] != val:\n",
    "            removedList[j] = nums[i]\n",
    "            j += 1    \n",
    "    \n",
    "    return j"
   ]
  },
  {
   "cell_type": "code",
   "execution_count": 24,
   "metadata": {},
   "outputs": [],
   "source": [
    "nums = [0,1,2,2,3,0,4,2]\n",
    "val = 2"
   ]
  },
  {
   "cell_type": "code",
   "execution_count": 25,
   "metadata": {},
   "outputs": [
    {
     "data": {
      "text/plain": [
       "[0, 1, 3, 0, 4, 0, 0, 0]"
      ]
     },
     "execution_count": 25,
     "metadata": {},
     "output_type": "execute_result"
    }
   ],
   "source": [
    "removeElement(nums = nums, val = val)"
   ]
  },
  {
   "cell_type": "code",
   "execution_count": null,
   "metadata": {},
   "outputs": [],
   "source": []
  }
 ],
 "metadata": {
  "kernelspec": {
   "display_name": "Python 3",
   "language": "python",
   "name": "python3"
  },
  "language_info": {
   "codemirror_mode": {
    "name": "ipython",
    "version": 3
   },
   "file_extension": ".py",
   "mimetype": "text/x-python",
   "name": "python",
   "nbconvert_exporter": "python",
   "pygments_lexer": "ipython3",
   "version": "3.11.6"
  }
 },
 "nbformat": 4,
 "nbformat_minor": 2
}
